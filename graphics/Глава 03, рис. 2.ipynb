{
 "cells": [
  {
   "cell_type": "code",
   "execution_count": 2,
   "metadata": {
    "collapsed": false
   },
   "outputs": [
    {
     "data": {
      "image/png": "[encoded data removed]",
      "text/plain": [
       "<matplotlib.figure.Figure at 0x26d95721208>"
      ]
     },
     "metadata": {},
     "output_type": "display_data"
    }
   ],
   "source": [
    "# -*- coding: utf-8 -*-\n",
    "\"\"\"\n",
    "Глава 3, рис. 2\n",
    "\"\"\"\n",
    "\n",
    "import matplotlib as mpl\n",
    "import matplotlib.pyplot as plt\n",
    "\n",
    "%matplotlib inline  \n",
    "\n",
    "mpl.style.use('ggplot')  \n",
    "mpl.style.use('seaborn-whitegrid')  \n",
    "mpl.rcParams['axes.facecolor'] = u'fefefe'\n",
    "#mpl.rcParams.update({'font.family': 'Ubuntu Condensed'})   \n",
    "mpl.rcParams.update({'font.family': 'Tahoma'})\n",
    "\n",
    "def make_chart_simple_bar_chart():\n",
    "    fig = plt.figure()\n",
    "\n",
    "    movies = [\"Энни Холл\", \"Бен-Гур\", \"Касабланка\", \"Ганди\", \"Вестсайдская история\"]\n",
    "    num_oscars = [5, 11, 3, 8, 10]\n",
    "\n",
    "    # ширина столбцов по умолчанию 0.8, поэтому добавим 0.1 к левым\n",
    "    # координатам, чтобы каждый столбец был по центру интервала\n",
    "    xs = [i + 0.1 for i, _ in enumerate(movies)]\n",
    "\n",
    "    # построить столбцы с левыми X-координатами [xs] и высотой [num_oscars]\n",
    "    plt.bar(xs, num_oscars)\n",
    "    plt.ylabel(\"Количество наград\", fontsize=11)\n",
    "    plt.title(\"Мои любимые фильмы\", fontsize=13)\n",
    "\n",
    "    # добавить метки на оси X с названиями фильмов в центре каждого интервала\n",
    "    plt.xticks([i + 0.5 for i, _ in enumerate(movies)], movies)\n",
    "    \n",
    "    plt.show()\n",
    "    #fig.savefig(\"fig_3-2\", dpi=300,bbox_inches='tight',facecolor='w') \n",
    "\n",
    "make_chart_simple_bar_chart() "
   ]
  },
  {
   "cell_type": "code",
   "execution_count": null,
   "metadata": {
    "collapsed": true
   },
   "outputs": [],
   "source": []
  }
 ],
 "metadata": {
  "anaconda-cloud": {},
  "kernelspec": {
   "display_name": "Python [Root]",
   "language": "python",
   "name": "Python [Root]"
  },
  "language_info": {
   "codemirror_mode": {
    "name": "ipython",
    "version": 3
   },
   "file_extension": ".py",
   "mimetype": "text/x-python",
   "name": "python",
   "nbconvert_exporter": "python",
   "pygments_lexer": "ipython3",
   "version": "3.5.2"
  }
 },
 "nbformat": 4,
 "nbformat_minor": 0
}
