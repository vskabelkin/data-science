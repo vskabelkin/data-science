{
 "cells": [
  {
   "cell_type": "code",
   "execution_count": 2,
   "metadata": {
    "collapsed": false
   },
   "outputs": [
    {
     "data": {
      "image/png": "[encoded data removed]",
      "text/plain": [
       "<matplotlib.figure.Figure at 0x23024881588>"
      ]
     },
     "metadata": {},
     "output_type": "display_data"
    }
   ],
   "source": [
    "# -*- coding: utf-8 -*-\n",
    "\"\"\"\n",
    "Глава 17, рис. 1\n",
    "\"\"\"\n",
    "\n",
    "import numpy as np\n",
    "\n",
    "import matplotlib as mpl\n",
    "import matplotlib.pyplot as plt\n",
    "\n",
    "%matplotlib inline  \n",
    "\n",
    "mpl.style.use('ggplot')  \n",
    "mpl.style.use('seaborn-whitegrid')  \n",
    "mpl.rcParams['axes.facecolor'] = u'fefefe'\n",
    "#mpl.rcParams.update({'font.family': 'Ubuntu Condensed'})   \n",
    "mpl.rcParams.update({'font.family': 'Tahoma'})\n",
    "\n",
    "def plot_entropy():\n",
    "    fig = plt.figure()   \n",
    "    \n",
    "    def entropyfunc(pmf):\n",
    "        return -(pmf * np.log(pmf)/np.log(2)).sum()\n",
    "    \n",
    "    x = np.arange(0.00001,1.0,.001)\n",
    "    \n",
    "    # vstack используется для объединения двух векторов длиной n в массив размера 2,n\n",
    "    # затем транспонировать его\n",
    "    pmfs = np.vstack((x,1-x))\n",
    "    pmfs = pmfs.T\n",
    "    \n",
    "    binaryEntropy = []\n",
    "     \n",
    "    # просмотреть строки и взять энтропии шагов\n",
    "    for i in range(pmfs.shape[0]):\n",
    "        binaryEntropy.append(entropyfunc(pmfs[i,:]))    \n",
    "      \n",
    "    # отобразить результат на графике\n",
    "    plt.plot(binaryEntropy,'cornflowerblue',linewidth=1)\n",
    "     \n",
    "    plt.xlabel('p', fontsize=11)            # частота\n",
    "    plt.ylabel('-p log2(p)', fontsize=11)    # энтропия(биты)\n",
    "    plt.title('Функция энтропии', fontsize=13)      # бинарной\n",
    "    plt.axis([0, 1000, 0, 1.05])\n",
    "    xloc,xticklabels = plt.xticks() \n",
    "    plt.xticks(xloc,np.arange(0,1.2,.2))            # ось Х начинается с [0,1]\n",
    "     \n",
    "    plt.show()\n",
    "    #fig.savefig(\"fig_17-1\", dpi=300, bbox_inches='tight', facecolor='w') \n",
    "    \n",
    "\n",
    "plot_entropy()"
   ]
  },
  {
   "cell_type": "code",
   "execution_count": null,
   "metadata": {
    "collapsed": true
   },
   "outputs": [],
   "source": []
  }
 ],
 "metadata": {
  "anaconda-cloud": {},
  "kernelspec": {
   "display_name": "Python [Root]",
   "language": "python",
   "name": "Python [Root]"
  },
  "language_info": {
   "codemirror_mode": {
    "name": "ipython",
    "version": 3
   },
   "file_extension": ".py",
   "mimetype": "text/x-python",
   "name": "python",
   "nbconvert_exporter": "python",
   "pygments_lexer": "ipython3",
   "version": "3.5.2"
  }
 },
 "nbformat": 4,
 "nbformat_minor": 0
}
