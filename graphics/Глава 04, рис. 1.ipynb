{
 "cells": [
  {
   "cell_type": "code",
   "execution_count": 2,
   "metadata": {
    "collapsed": false
   },
   "outputs": [
    {
     "data": {
      "image/png": "[encoded data removed]",
      "text/plain": [
       "<matplotlib.figure.Figure at 0x1cef69d9940>"
      ]
     },
     "metadata": {},
     "output_type": "display_data"
    }
   ],
   "source": [
    "# -*- coding: utf-8 -*-\n",
    "\"\"\"\n",
    "Глава 4, рис. 1\n",
    "\"\"\"\n",
    "import math #  математические функции\n",
    "\n",
    "import matplotlib as mpl\n",
    "import matplotlib.pyplot as plt\n",
    "\n",
    "%matplotlib inline  \n",
    "\n",
    "mpl.style.use('ggplot')  \n",
    "mpl.style.use('seaborn-whitegrid')  \n",
    "mpl.rcParams['axes.facecolor'] = u'fefefe'\n",
    "#mpl.rcParams.update({'font.family': 'Ubuntu Condensed'})   \n",
    "mpl.rcParams.update({'font.family': 'Tahoma'})\n",
    "\n",
    "def dot(v, w):\n",
    "    \"\"\"v_1 * w_1 + ... + v_n * w_n\"\"\"\n",
    "    return sum(v_i * w_i for v_i, w_i in zip(v, w))\n",
    "    \n",
    "def scalar_multiply(c, v):\n",
    "    return [c * v_i for v_i in v]\n",
    "\n",
    "def make_graph_dot_product_as_vector_projection():\n",
    "    fig = plt.figure()\n",
    "\n",
    "    v = [0, 0]\n",
    "    w = [1, 2]\n",
    "    o = [3, 3]\n",
    "\n",
    "    plt.arrow(0, 0, 1, 2, width=0.02, head_width=.15, length_includes_head=True)\n",
    "    plt.arrow(1, 2, 2, 1, width=0.02, head_width=.15, length_includes_head=True)\n",
    "    plt.arrow(-0 ,-0, 3, 3, width=0.01, head_width=.005, linestyle=':', length_includes_head=True)\n",
    "\n",
    "    plt.scatter(*zip(v,w,o),marker='o', color='#348ABD')\n",
    "    plt.axis([-1,4,-0.5,3.5])\n",
    "    plt.title(\"Сложение двух векторов\", fontsize=13)\n",
    "    plt.show()\n",
    "    #fig.savefig(\"fig_4-1\", dpi=300,bbox_inches='tight',facecolor='w')\n",
    "  \n",
    "make_graph_dot_product_as_vector_projection()    "
   ]
  },
  {
   "cell_type": "code",
   "execution_count": null,
   "metadata": {
    "collapsed": true
   },
   "outputs": [],
   "source": []
  }
 ],
 "metadata": {
  "anaconda-cloud": {},
  "kernelspec": {
   "display_name": "Python [Root]",
   "language": "python",
   "name": "Python [Root]"
  },
  "language_info": {
   "codemirror_mode": {
    "name": "ipython",
    "version": 3
   },
   "file_extension": ".py",
   "mimetype": "text/x-python",
   "name": "python",
   "nbconvert_exporter": "python",
   "pygments_lexer": "ipython3",
   "version": "3.5.2"
  }
 },
 "nbformat": 4,
 "nbformat_minor": 0
}
