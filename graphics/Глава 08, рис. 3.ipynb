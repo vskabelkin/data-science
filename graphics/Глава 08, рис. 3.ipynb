{
 "cells": [
  {
   "cell_type": "code",
   "execution_count": 1,
   "metadata": {
    "collapsed": false
   },
   "outputs": [
    {
     "data": {
      "image/png": "[encoded data removed]",
      "text/plain": [
       "<matplotlib.figure.Figure at 0x196df90d898>"
      ]
     },
     "metadata": {},
     "output_type": "display_data"
    }
   ],
   "source": [
    "# -*- coding: utf-8 -*-\n",
    "\n",
    "\"\"\"\n",
    "Глава 8, рис. 3\n",
    "\"\"\"\n",
    "\n",
    "from functools import partial\n",
    "\n",
    "import matplotlib as mpl\n",
    "import matplotlib.pyplot as plt\n",
    "\n",
    "%matplotlib inline  \n",
    "\n",
    "mpl.style.use('ggplot')  \n",
    "mpl.style.use('seaborn-whitegrid')  \n",
    "mpl.rcParams['axes.facecolor'] = u'fefefe'\n",
    "#mpl.rcParams.update({'font.family': 'Ubuntu Condensed'})   \n",
    "mpl.rcParams.update({'font.family': 'Tahoma'})\n",
    "\n",
    "def difference_quotient(f, x, h):    return (f(x + h) - f(x)) / h\n",
    "       \n",
    "def plot_estimated_derivative():\n",
    "    fig = plt.figure()\n",
    "    \n",
    "    def square(x):      return x * x\n",
    "\n",
    "    def derivative(x):  return 2 * x\n",
    "\n",
    "    # partial(difference_quotient, square, h=0.00001) # python 2.7\n",
    "    derivative_estimate = lambda x: difference_quotient(square, x, h=0.00001)\n",
    "    \n",
    "    xs = range(-10,10)\n",
    "    \n",
    "    plt.plot(xs, [2*x for x in xs], 'rx', label='Факт')                       # красный  x\n",
    "    plt.plot(xs, [derivative_estimate(x) for x in xs], 'b+', label='Оценка')  # синий +\n",
    "    \n",
    "    plt.legend(loc=9, fontsize=9)\n",
    "    plt.title(\"Фактические производные и их оценки\", fontsize=13)\n",
    "    plt.show()   \n",
    "    #fig.savefig(\"fig_8-3\", dpi=300, bbox_inches='tight', facecolor='w') \n",
    "\n",
    "    \n",
    "plot_estimated_derivative()"
   ]
  },
  {
   "cell_type": "code",
   "execution_count": null,
   "metadata": {
    "collapsed": true
   },
   "outputs": [],
   "source": []
  }
 ],
 "metadata": {
  "anaconda-cloud": {},
  "kernelspec": {
   "display_name": "Python [Root]",
   "language": "python",
   "name": "Python [Root]"
  },
  "language_info": {
   "codemirror_mode": {
    "name": "ipython",
    "version": 3
   },
   "file_extension": ".py",
   "mimetype": "text/x-python",
   "name": "python",
   "nbconvert_exporter": "python",
   "pygments_lexer": "ipython3",
   "version": "3.5.2"
  }
 },
 "nbformat": 4,
 "nbformat_minor": 0
}
