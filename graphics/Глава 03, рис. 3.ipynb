{
 "cells": [
  {
   "cell_type": "code",
   "execution_count": 3,
   "metadata": {
    "collapsed": false
   },
   "outputs": [
    {
     "data": {
      "image/png": "[encoded data removed]",
      "text/plain": [
       "<matplotlib.figure.Figure at 0x24f78c89f98>"
      ]
     },
     "metadata": {},
     "output_type": "display_data"
    }
   ],
   "source": [
    "# -*- coding: utf-8 -*-\n",
    "\"\"\"\n",
    "Глава 3, рис. 3\n",
    "\"\"\"\n",
    "\n",
    "from collections import Counter\n",
    "\n",
    "import matplotlib as mpl\n",
    "import matplotlib.pyplot as plt\n",
    "\n",
    "%matplotlib inline  \n",
    "\n",
    "mpl.style.use('ggplot')  \n",
    "mpl.style.use('seaborn-whitegrid')  \n",
    "mpl.rcParams['axes.facecolor'] = u'fefefe'\n",
    "#mpl.rcParams.update({'font.family': 'Ubuntu Condensed'})   \n",
    "mpl.rcParams.update({'font.family': 'Tahoma'})\n",
    "\n",
    "def make_chart_histogram(plt):\n",
    "    fig = plt.figure()\n",
    "    \n",
    "    grades = [83,95,91,87,70,0,85,82,100,67,73,77,0]\n",
    "    decile = lambda grade: grade // 10 * 10 \n",
    "    histogram = Counter(decile(grade) for grade in grades)\n",
    "\n",
    "    plt.bar([x - 4 for x in histogram.keys()], # сдвинуть столбец влево на 4\n",
    "            histogram.values(),                # высота столбца\n",
    "            8)                                 # ширина каждого столбца 8\n",
    "    plt.axis([-5, 105, 0, 5])                  # ось X от -5 до 105,\n",
    "                                               # ось Y от 0 до 5\n",
    "    plt.xticks([10 * i for i in range(11)])    # метки по оси X: 0, 10,..., 100\n",
    "    plt.xlabel(\"Дециль\", fontsize=11)\n",
    "    plt.ylabel(\"Число студентов\", fontsize=11)\n",
    "    plt.title(\"Распределение оценок за экзамен №1\", fontsize=13)\n",
    "    plt.show()\n",
    "    #fig.savefig(\"fig_3-3\", dpi=300,bbox_inches='tight',facecolor='w') \n",
    "\n",
    "make_chart_histogram(plt)"
   ]
  },
  {
   "cell_type": "code",
   "execution_count": null,
   "metadata": {
    "collapsed": true
   },
   "outputs": [],
   "source": []
  }
 ],
 "metadata": {
  "anaconda-cloud": {},
  "kernelspec": {
   "display_name": "Python [Root]",
   "language": "python",
   "name": "Python [Root]"
  },
  "language_info": {
   "codemirror_mode": {
    "name": "ipython",
    "version": 3
   },
   "file_extension": ".py",
   "mimetype": "text/x-python",
   "name": "python",
   "nbconvert_exporter": "python",
   "pygments_lexer": "ipython3",
   "version": "3.5.2"
  }
 },
 "nbformat": 4,
 "nbformat_minor": 0
}
