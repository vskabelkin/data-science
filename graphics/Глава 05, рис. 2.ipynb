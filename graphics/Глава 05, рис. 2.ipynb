{
 "cells": [
  {
   "cell_type": "code",
   "execution_count": 2,
   "metadata": {
    "collapsed": false
   },
   "outputs": [
    {
     "data": {
      "image/png": "[encoded data removed]",
      "text/plain": [
       "<matplotlib.figure.Figure at 0x224c83c7080>"
      ]
     },
     "metadata": {},
     "output_type": "display_data"
    }
   ],
   "source": [
    "# -*- coding: utf-8 -*-\n",
    "\"\"\"\n",
    "Глава 5, рис. 2\n",
    "\"\"\"\n",
    "\n",
    "import matplotlib as mpl\n",
    "import matplotlib.pyplot as plt\n",
    "\n",
    "%matplotlib inline  \n",
    "\n",
    "mpl.style.use('ggplot')  \n",
    "mpl.style.use('seaborn-whitegrid')  \n",
    "mpl.rcParams['axes.facecolor'] = u'fefefe'\n",
    "#mpl.rcParams.update({'font.family': 'Ubuntu Condensed'})   \n",
    "mpl.rcParams.update({'font.family': 'Tahoma'})\n",
    "\n",
    "num_friends = [100,49,41,40,25,21,21,19,19,18,18,16,15,15,15,15,14,14,13,13,\n",
    "                13,13,12,12,11,10,10,10,10,10,10,10,10,10,10,10,10,10,10,10,\n",
    "                 9, 9, 9, 9, 9, 9, 9, 9, 9, 9, 9, 9, 9, 9, 9, 9, 9, 9, 8, 8,\n",
    "                 8, 8, 8, 8, 8, 8, 8, 8, 8, 8, 8, 7, 7, 7, 7, 7, 7, 7, 7, 7,\n",
    "                 7, 7, 7, 7, 7, 7, 6, 6, 6, 6, 6, 6, 6, 6, 6, 6, 6, 6, 6, 6,\n",
    "                 6, 6, 6, 6, 6, 6, 6, 6, 5, 5, 5, 5, 5, 5, 5, 5, 5, 5, 5, 5,\n",
    "                 5, 5, 5, 5, 5, 4, 4, 4, 4, 4, 4, 4, 4, 4, 4, 4, 4, 4, 4, 4,\n",
    "                 4, 4, 4, 4, 4, 3, 3, 3, 3, 3, 3, 3, 3, 3, 3, 3, 3, 3, 3, 3,\n",
    "                 3, 3, 3, 3, 3, 2, 2, 2, 2, 2, 2, 2, 2, 2, 2, 2, 2, 2, 2, 2,\n",
    "                 2, 2, 1, 1, 1, 1, 1, 1, 1, 1, 1, 1, 1, 1, 1, 1, 1, 1, 1, 1,\n",
    "                 1, 1, 1, 1]\n",
    "\n",
    "daily_minutes = [1,68.77,51.25,52.08,38.36,44.54,57.13,51.4,41.42,31.22,\n",
    "                 34.76,54.01,38.79,47.59,49.1,27.66,41.03,36.73,48.65,28.12,\n",
    "                 46.62,35.57,32.98,35,26.07,23.77,39.73,40.57,31.65,31.21,\n",
    "                 36.32,20.45,21.93,26.02,27.34,23.49,46.94,30.5,33.8,24.23,\n",
    "                 21.4,27.94,32.24,40.57,25.07,19.42,22.39,18.42,46.96,23.72,\n",
    "                 26.41,26.97,36.76,40.32,35.02,29.47,30.2,31,38.11,38.18,\n",
    "                 36.31,21.03,30.86,36.07,28.66,29.08,37.28,15.28,24.17,22.31,\n",
    "                 30.17,25.53,19.85,35.37,44.6,17.23,13.47,26.33,35.02,32.09,\n",
    "                 24.81,19.33,28.77,24.26,31.98,25.73,24.86,16.28,34.51,15.23,\n",
    "                 39.72,40.8,26.06,35.76,34.76,16.13,44.04,18.03,19.65,32.62,\n",
    "                 35.59,39.43,14.18,35.24,40.13,41.82,35.45,36.07,43.67,24.61,\n",
    "                 20.9,21.9,18.79,27.61,27.21,26.61,29.77,20.59,27.53,13.82,\n",
    "                 33.2,25,33.1,36.65,18.63,14.87,22.2,36.81,25.53,24.62,\n",
    "                 26.25,18.21,28.08,19.42,29.79,32.8,35.99,28.32,27.79,35.88,\n",
    "                 29.06,36.28,14.1,36.63,37.49,26.9,18.58,38.48,24.48,18.95,\n",
    "                 33.55,14.24,29.04,32.51,25.63,22.22,19,32.73,15.16,13.9,\n",
    "                 27.2,32.01,29.27,33,13.74,20.42,27.32,18.23,35.35,28.48,\n",
    "                 9.08,24.62,20.12,35.26,19.92,31.02,16.49,12.16,30.7,31.22,\n",
    "                 34.65,13.13,27.51,33.2,31.57,14.1,33.42,17.44,10.12,24.42,\n",
    "                 9.82,23.39,30.93,15.03,21.67,31.09,33.29,22.61,26.89,23.48,\n",
    "                 8.38,27.81,32.35,23.84]\n",
    "\n",
    "\n",
    "def make_correlation_with_outlier():\n",
    "    fig = plt.figure()\n",
    "\n",
    "    plt.scatter(num_friends, daily_minutes, marker='.', color='#348ABD')\n",
    "    plt.axis([0, 105, 0, 100]) \n",
    "    plt.xlabel(\"Число друзей\", fontsize=11)\n",
    "    plt.ylabel(\"Продолжительность, мин. в день\", fontsize=11)\n",
    "    plt.title(\"Корреляция с выбросом\", fontsize=13)\n",
    "    plt.show()\n",
    "    #fig.savefig(\"fig_5-2\", dpi=300, bbox_inches='tight',facecolor='w') \n",
    "    \n",
    "make_correlation_with_outlier()"
   ]
  },
  {
   "cell_type": "code",
   "execution_count": null,
   "metadata": {
    "collapsed": true
   },
   "outputs": [],
   "source": []
  }
 ],
 "metadata": {
  "anaconda-cloud": {},
  "kernelspec": {
   "display_name": "Python [Root]",
   "language": "python",
   "name": "Python [Root]"
  },
  "language_info": {
   "codemirror_mode": {
    "name": "ipython",
    "version": 3
   },
   "file_extension": ".py",
   "mimetype": "text/x-python",
   "name": "python",
   "nbconvert_exporter": "python",
   "pygments_lexer": "ipython3",
   "version": "3.5.2"
  }
 },
 "nbformat": 4,
 "nbformat_minor": 0
}
