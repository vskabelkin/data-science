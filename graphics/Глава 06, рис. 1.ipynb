{
 "cells": [
  {
   "cell_type": "code",
   "execution_count": 2,
   "metadata": {
    "collapsed": false
   },
   "outputs": [
    {
     "data": {
      "image/png": "[encoded data removed]",
      "text/plain": [
       "<matplotlib.figure.Figure at 0x2a16d778320>"
      ]
     },
     "metadata": {},
     "output_type": "display_data"
    }
   ],
   "source": [
    "# -*- coding: utf-8 -*-\n",
    "\"\"\"\n",
    "Глава 6, рис. 1\n",
    "\"\"\"\n",
    "\n",
    "import matplotlib as mpl\n",
    "import matplotlib.pyplot as plt\n",
    "\n",
    "%matplotlib inline  \n",
    "\n",
    "mpl.style.use('ggplot')  \n",
    "mpl.style.use('seaborn-whitegrid')  \n",
    "mpl.rcParams['axes.facecolor'] = u'fefefe'\n",
    "#mpl.rcParams.update({'font.family': 'Ubuntu Condensed'})   \n",
    "mpl.rcParams.update({'font.family': 'Tahoma'})\n",
    "\n",
    "def plot_normal_pdfs():\n",
    "    fig = plt.figure()\n",
    "    \n",
    "    x = [-1, 0, 1, 2]\n",
    "    y = [ 0, 0, 1, 1]\n",
    "    plt.axis([-1, 2, -.6, 1.6])\n",
    "    plt.plot(x, y, 'g', linewidth=1.20, color=\"#348ABD\")  # 348ABD или 0B6121\n",
    "    plt.title(\"ИФР равномерной случайной величины\", fontsize=13)\n",
    "    plt.show()  \n",
    "    #fig.savefig(\"fig_6-1\", dpi=300, bbox_inches='tight', facecolor='w')    \n",
    "    \n",
    "plot_normal_pdfs()"
   ]
  },
  {
   "cell_type": "code",
   "execution_count": null,
   "metadata": {
    "collapsed": true
   },
   "outputs": [],
   "source": []
  }
 ],
 "metadata": {
  "anaconda-cloud": {},
  "kernelspec": {
   "display_name": "Python [Root]",
   "language": "python",
   "name": "Python [Root]"
  },
  "language_info": {
   "codemirror_mode": {
    "name": "ipython",
    "version": 3
   },
   "file_extension": ".py",
   "mimetype": "text/x-python",
   "name": "python",
   "nbconvert_exporter": "python",
   "pygments_lexer": "ipython3",
   "version": "3.5.2"
  }
 },
 "nbformat": 4,
 "nbformat_minor": 0
}
