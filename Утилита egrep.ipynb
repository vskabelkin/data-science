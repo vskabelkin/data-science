{
 "cells": [
  {
   "cell_type": "code",
   "execution_count": 1,
   "metadata": {
    "collapsed": true
   },
   "outputs": [],
   "source": [
    "# -*- coding: utf-8 -*-\n",
    "\n",
    "# egrep.py\n",
    "\n",
    "import sys, re\n",
    "\n",
    "if __name__ == \"__main__\":\n",
    "\n",
    "    # sys.argv - это список аргументов командной строки\n",
    "    # sys.argv[0] - это название самой программы\n",
    "    # sys.argv[1] будет регулярным выражением, заданным в командной строке\n",
    "    regex = sys.argv[1]\n",
    "\n",
    "    # для каждой переданной в сценарий строки\n",
    "    for line in sys.stdin:\n",
    "        # если она совпадает с регулярным выражением, записать ее в выходной поток stdout\n",
    "        if re.search(regex, line):\n",
    "            sys.stdout.write(line)"
   ]
  },
  {
   "cell_type": "code",
   "execution_count": null,
   "metadata": {
    "collapsed": true
   },
   "outputs": [],
   "source": []
  }
 ],
 "metadata": {
  "anaconda-cloud": {},
  "kernelspec": {
   "display_name": "Python [Root]",
   "language": "python",
   "name": "Python [Root]"
  },
  "language_info": {
   "codemirror_mode": {
    "name": "ipython",
    "version": 3
   },
   "file_extension": ".py",
   "mimetype": "text/x-python",
   "name": "python",
   "nbconvert_exporter": "python",
   "pygments_lexer": "ipython3",
   "version": "3.5.2"
  }
 },
 "nbformat": 4,
 "nbformat_minor": 0
}
